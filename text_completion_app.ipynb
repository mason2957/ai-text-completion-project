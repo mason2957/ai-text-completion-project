{
 "cells": [
  {
   "cell_type": "code",
   "execution_count": 14,
   "id": "3a098f8f-ce88-4263-a58a-b73249a5f558",
   "metadata": {},
   "outputs": [
    {
     "name": "stderr",
     "output_type": "stream",
     "text": [
      "Device set to use cpu\n"
     ]
    }
   ],
   "source": [
    "from transformers import pipeline, set_seed\n",
    "import sys\n",
    "\n",
    "generator = pipeline('text-generation', model='gpt2')\n",
    "set_seed(42)"
   ]
  },
  {
   "cell_type": "code",
   "execution_count": 27,
   "id": "d72a30ac-642e-4aaa-a0ab-d298544c013e",
   "metadata": {},
   "outputs": [],
   "source": [
    "def get_completion(prompt, max_length=50, temperature=0.9):\n",
    "    try:\n",
    "        if not prompt.strip():\n",
    "            return \"Error: Empty prompt.\"\n",
    "        \n",
    "        if len(prompt) > 1000:\n",
    "            return \"Error: Prompt is too long.\"\n",
    "        \n",
    "        output = generator(\n",
    "            prompt,\n",
    "            max_length=max_length,\n",
    "            temperature=temperature,\n",
    "            num_return_sequences=1\n",
    "        )\n",
    "        \n",
    "        return output[0]['generated_text']\n",
    "    \n",
    "    except Exception as e:\n",
    "        return f\"Unexpected error: {e}\""
   ]
  },
  {
   "cell_type": "code",
   "execution_count": 28,
   "id": "f37d493b-5dd7-4df0-9c47-65f26a39b05f",
   "metadata": {},
   "outputs": [],
   "source": [
    "def main():\n",
    "    print(\"Welcome to the AI Text Completion App. Type 'exit' to quit.\")\n",
    "    \n",
    "    while True:\n",
    "        user_input = input(\"\\nEnter your prompt: \").strip()\n",
    "\n",
    "        if user_input.lower() == 'exit':\n",
    "            print(\"Goodbye!\")\n",
    "            break\n",
    "\n",
    "        response = get_completion(user_input)\n",
    "        print(\"\\nAI response: \", response)"
   ]
  },
  {
   "cell_type": "code",
   "execution_count": 29,
   "id": "000b589a-1420-49c5-8710-2b525b44dc1a",
   "metadata": {},
   "outputs": [
    {
     "name": "stdout",
     "output_type": "stream",
     "text": [
      "Welcome to the AI Text Completion App. Type 'exit' to quit.\n"
     ]
    },
    {
     "name": "stdin",
     "output_type": "stream",
     "text": [
      "\n",
      "Enter your prompt:  explain division to me\n"
     ]
    },
    {
     "name": "stderr",
     "output_type": "stream",
     "text": [
      "Setting `pad_token_id` to `eos_token_id`:50256 for open-end generation.\n",
      "Both `max_new_tokens` (=256) and `max_length`(=50) seem to have been set. `max_new_tokens` will take precedence. Please refer to the documentation for more information. (https://huggingface.co/docs/transformers/main/en/main_classes/text_generation)\n"
     ]
    },
    {
     "name": "stdout",
     "output_type": "stream",
     "text": [
      "\n",
      "AI response:  explain division to me for the sake of this story. I'm sorry.\"\n",
      "\n",
      "For example, in March of this year, a group of about three dozen women, mostly in their 20s and 30s, gathered at a home at 2500 Westheimer. As they approached the gate, two men yelled at them, \"You have a right to protest!\"\n",
      "\n",
      "The men then ordered them to leave, with one of the women telling the men to take their weapons. She continued to speak, but the men shouted her name, and she was handcuffed.\n",
      "\n",
      "The men then threw her into the back of a pickup truck and drove away.\n",
      "\n",
      "The man and the woman, both dressed in camouflage fatigues, later found a pistol with a serial number in it — a reference to the mass shooting in Virginia that left 49 people dead. The man told police in a video that the gun was \"unarmed,\" and later fired into the vehicle.\n",
      "\n",
      "The men then drove off and the women told investigators they'd been shot multiple times in their homes — one of which ended with several dead in what police described as a home invasion.\n",
      "\n",
      "The men had already been convicted of robbery and attempted carjacking, but prosecutors said they'd received a warning that the assault weapon was\n"
     ]
    },
    {
     "name": "stdin",
     "output_type": "stream",
     "text": [
      "\n",
      "Enter your prompt:  give me an example of 6 fruits\n"
     ]
    },
    {
     "name": "stderr",
     "output_type": "stream",
     "text": [
      "Setting `pad_token_id` to `eos_token_id`:50256 for open-end generation.\n",
      "Both `max_new_tokens` (=256) and `max_length`(=50) seem to have been set. `max_new_tokens` will take precedence. Please refer to the documentation for more information. (https://huggingface.co/docs/transformers/main/en/main_classes/text_generation)\n"
     ]
    },
    {
     "name": "stdout",
     "output_type": "stream",
     "text": [
      "\n",
      "AI response:  give me an example of 6 fruits of my labors. To what fruit are these fruits? And to what root are these fruits planted? Answer: A vegetable, leafy-yellow, sweet, or sweet, of various sizes, and of various colors. The same fruit is eaten, or known as vegetables, in large quantities. Plants, flowers, seeds, fruit, or seeds are always represented by a set or variety of flowers. The seeds give rise to numerous distinct types of fruit, plants, or seeds.\n",
      "\n",
      "The term fruit is used to designate any variety of plant or flower. Plants are named for their fruits and flowers and their branches, plants for their fruits and flowers, flowers for their fruits and flowers, flowers for their vines, leafs for their roots, roots for their plants, roots for their leaves, and branches for their branches, stems, or leaves.\n",
      "\n",
      "The species of root or plant that plants should keep are: seeds, branches, shoots, leaves, shoots, shoots, shoots, plants, plants (except plant plants) growing by a single fall, or shoots growing by one or more branches that grow by the fall.\n",
      "\n",
      "Root species do not constitute a tree that must be kept indefinitely in a tree condition. As a matter of fact, trees may be kept\n"
     ]
    },
    {
     "name": "stdin",
     "output_type": "stream",
     "text": [
      "\n",
      "Enter your prompt:  add 2 to 3\n"
     ]
    },
    {
     "name": "stderr",
     "output_type": "stream",
     "text": [
      "Setting `pad_token_id` to `eos_token_id`:50256 for open-end generation.\n",
      "Both `max_new_tokens` (=256) and `max_length`(=50) seem to have been set. `max_new_tokens` will take precedence. Please refer to the documentation for more information. (https://huggingface.co/docs/transformers/main/en/main_classes/text_generation)\n"
     ]
    },
    {
     "name": "stdout",
     "output_type": "stream",
     "text": [
      "\n",
      "AI response:  add 2 to 3 of the 5 total (4 of the 2 total).\n",
      "\n",
      "For those of you who are still unsure about the exact number of rounds of 3 rounds, read my original post here:\n",
      "\n",
      "https://docs.google.com/spreadsheet/ccc?key=0Av7Qj4hEoEQGQVYYk7BQvPK7Wv9X-L3I6Wnz7NJz4mj2L1lX2M5\n",
      "\n",
      "I've taken a few screenshots, including a new one from this post:\n",
      "\n",
      "I hope you all don't mind my post, as I haven't had the time to put together those. I do have a couple things to do, such as this post, but I feel like I can put them all together if I can.\n",
      "\n",
      "So if you're curious about what will be going on with this, I will provide some brief notes as well.\n",
      "\n",
      "Note that the 2 rounds of 3 rounds will play against each other, meaning that the final round will play against the last round. The 2 total rounds will be played against the same opponent, so that will be the same for everyone.\n",
      "\n",
      "I will post this list\n"
     ]
    },
    {
     "name": "stdin",
     "output_type": "stream",
     "text": [
      "\n",
      "Enter your prompt:  exit\n"
     ]
    },
    {
     "name": "stdout",
     "output_type": "stream",
     "text": [
      "Goodbye!\n"
     ]
    }
   ],
   "source": [
    "main()"
   ]
  },
  {
   "cell_type": "code",
   "execution_count": null,
   "id": "f2b6b82d-d937-4b4d-a55c-f0637b0f29bd",
   "metadata": {},
   "outputs": [],
   "source": []
  }
 ],
 "metadata": {
  "kernelspec": {
   "display_name": "Python [conda env:base] *",
   "language": "python",
   "name": "conda-base-py"
  },
  "language_info": {
   "codemirror_mode": {
    "name": "ipython",
    "version": 3
   },
   "file_extension": ".py",
   "mimetype": "text/x-python",
   "name": "python",
   "nbconvert_exporter": "python",
   "pygments_lexer": "ipython3",
   "version": "3.13.5"
  }
 },
 "nbformat": 4,
 "nbformat_minor": 5
}
