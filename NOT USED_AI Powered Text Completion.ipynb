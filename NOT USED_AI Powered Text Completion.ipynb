{
 "cells": [
  {
   "cell_type": "code",
   "execution_count": 32,
   "id": "d632e60d-4219-4c90-8c78-529a9156cf13",
   "metadata": {},
   "outputs": [],
   "source": [
    "##Import the necessary files to access the .env file for the API key\n",
    "from dotenv import load_dotenv\n",
    "from openai import OpenAI, OpenAIError, AuthenticationError, RateLimitError\n",
    "import os\n",
    "\n",
    "##Accessing the API key from the .env file\n",
    "load_dotenv()\n",
    "\n",
    "##Initialize OpenAI with API key securely loaded from environment\n",
    "openai = OpenAI(api_key = os.getenv(\"OPENAI_API_KEY\"))"
   ]
  },
  {
   "cell_type": "code",
   "execution_count": 33,
   "id": "6aac293a-6b13-4a14-89d4-3c6455c2b449",
   "metadata": {},
   "outputs": [],
   "source": [
    "def get_completion(prompt, temperature=0.7, max_tokens=500):\n",
    "    try:\n",
    "        response = openai.chat.completions.create(\n",
    "            model=\"gpt-3.5-turbo\",\n",
    "            messages=[{\"role\": \"user\", \"content\": prompt}],\n",
    "            temperature=temperature,\n",
    "            max_tokens=max_tokens\n",
    "        )\n",
    "        return response.choices[0].message.content.strip()\n",
    "        \n",
    "    except AuthenticationError:\n",
    "        return \"Invalid API key.\"\n",
    "\n",
    "    except RateLimitError:\n",
    "        return \"You are sending requests too quickly, please slow down.\"\n",
    "\n",
    "    except OpenAIError as e:\n",
    "        return f\"OpenAI error: {str(e)}\"\n",
    "        \n",
    "    except Exception as e:\n",
    "        return f\"Unexpected error: {e}\""
   ]
  },
  {
   "cell_type": "code",
   "execution_count": 34,
   "id": "3bebf56a-8d0e-4a80-ba5d-72fb3cb46ad1",
   "metadata": {},
   "outputs": [],
   "source": [
    "def main():\n",
    "    print(\"Welcome to the AI Text Completion App. Type 'exit' to quit.\")\n",
    "    \n",
    "    while True:\n",
    "        user_input = input(\"\\nEnter your prompt: \").strip()\n",
    "\n",
    "        if not user_input:\n",
    "            print(\"Please enter a valid prompt.\")\n",
    "            continue\n",
    "\n",
    "        if user_input.lower() == 'exit':\n",
    "            print(\"Goodbye!\")\n",
    "            break\n",
    "\n",
    "        if len(user_input) > 1000:\n",
    "            print(\"Your input is too long. Please shorten it.\")\n",
    "            continue\n",
    "\n",
    "        response = get_completion(user_input)\n",
    "        print(\"\\nAI response:\", response)"
   ]
  },
  {
   "cell_type": "code",
   "execution_count": null,
   "id": "3d236323-f80c-49d3-9225-70f106c1f21c",
   "metadata": {},
   "outputs": [
    {
     "name": "stdout",
     "output_type": "stream",
     "text": [
      "Welcome to the AI Text Completion App. Type 'exit' to quit.\n"
     ]
    },
    {
     "name": "stdin",
     "output_type": "stream",
     "text": [
      "\n",
      "Enter your prompt:  explain recursion\n"
     ]
    },
    {
     "name": "stdout",
     "output_type": "stream",
     "text": [
      "\n",
      "AI response: You are sending requests too quickly, please slow down.\n"
     ]
    }
   ],
   "source": [
    "if __name__ == \"__main__\":\n",
    "    main()"
   ]
  },
  {
   "cell_type": "code",
   "execution_count": null,
   "id": "44391104-2627-457a-a49f-93269769f8a4",
   "metadata": {},
   "outputs": [],
   "source": []
  }
 ],
 "metadata": {
  "kernelspec": {
   "display_name": "Python [conda env:base] *",
   "language": "python",
   "name": "conda-base-py"
  },
  "language_info": {
   "codemirror_mode": {
    "name": "ipython",
    "version": 3
   },
   "file_extension": ".py",
   "mimetype": "text/x-python",
   "name": "python",
   "nbconvert_exporter": "python",
   "pygments_lexer": "ipython3",
   "version": "3.13.5"
  }
 },
 "nbformat": 4,
 "nbformat_minor": 5
}
